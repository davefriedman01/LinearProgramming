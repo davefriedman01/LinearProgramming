{
 "cells": [
  {
   "attachments": {},
   "cell_type": "markdown",
   "metadata": {},
   "source": [
    "# Q4"
   ]
  },
  {
   "attachments": {},
   "cell_type": "markdown",
   "metadata": {},
   "source": [
    "---"
   ]
  },
  {
   "attachments": {},
   "cell_type": "markdown",
   "metadata": {},
   "source": [
    "LP\n",
    "\n",
    "$\n",
    "\\begin{aligned}\n",
    "\\max z&=-5x_1+9x_2-8\\\\\n",
    "\\end{aligned}\n",
    "$\n",
    "\n",
    "subject to the constraints\n",
    "\n",
    "$\n",
    "\\begin{aligned}\n",
    "3x_1-5x_2&\\le15\\\\\n",
    "-2x_1+7x_2&\\ge-14\\\\\n",
    "5x_1+4x_2&=20\\\\\n",
    "\\end{aligned}\n",
    "$"
   ]
  },
  {
   "attachments": {},
   "cell_type": "markdown",
   "metadata": {},
   "source": [
    "---"
   ]
  },
  {
   "attachments": {},
   "cell_type": "markdown",
   "metadata": {},
   "source": [
    "Define $\\mathbf{A,b,c},d,\\mathbf{x}\\ni$\n",
    "\n",
    "$\n",
    "\\begin{aligned}\n",
    "\\min z&=\\mathbf{cx}+d\\\\\n",
    "\\mathbf{Ax}&=\\mathbf{b}\\\\\n",
    "\\mathbf{x}&\\ge0\\\\\n",
    "\\end{aligned}\n",
    "$\n",
    "\n",
    "is equivalent to the LP"
   ]
  },
  {
   "attachments": {},
   "cell_type": "markdown",
   "metadata": {},
   "source": [
    "---"
   ]
  },
  {
   "attachments": {},
   "cell_type": "markdown",
   "metadata": {},
   "source": [
    "$\n",
    "\\begin{aligned}\n",
    "3x_1-5x_2&\\le15\\\\\n",
    "-2x_1+7x_2&\\ge-14\\\\\n",
    "5x_1+4x_2&=20\\\\\n",
    "\\end{aligned}\n",
    "\\implies\n",
    "\\begin{aligned}\n",
    "3x_1-5x_2&\\le15\\\\\n",
    "-2x_1+7x_2&\\ge-14\\\\\n",
    "5x_1+4x_2&\\ge20\\\\\n",
    "5x_1+4x_2&\\le20\\\\\n",
    "\\end{aligned}\n",
    "\\implies\n",
    "\\begin{aligned}\n",
    "3x_1-5x_2+s_1&=15\\\\\n",
    "-2x_1+7x_2-s_2&=-14\\\\\n",
    "5x_1+4x_2-s_3&=20\\\\\n",
    "5x_1+4x_2+s_4&=20\\\\\n",
    "s_1,s_2,s_3,s_4&\\ge0\\\\\n",
    "\\end{aligned}\n",
    "$"
   ]
  },
  {
   "attachments": {},
   "cell_type": "markdown",
   "metadata": {},
   "source": [
    "if\n",
    "\n",
    "$\n",
    "\\begin{aligned}\n",
    "x_1&=u_1-u_2\\\\\n",
    "x_2&=u_3-u_4\\\\\n",
    "u_1,u_2,u_3,u_4&\\ge0\\\\\n",
    "\\end{aligned}\n",
    "$\n",
    "\n",
    "then\n",
    "\n",
    "$\n",
    "\\begin{aligned}\n",
    "-5(u_1-u_2)+9(u_3-u_4)-8&=z\\\\\n",
    "3(u_1-u_2)-5(u_3-u_4)+s_1&=15\\\\\n",
    "-2(u_1-u_2)+7(u_3-u_4)-s_2&=-14\\\\\n",
    "5(u_1-u_2)+4(u_3-u_4)-s_3&=20\\\\\n",
    "5(u_1-u_2)+4(u_3-u_4)+s_4&=20\\\\\n",
    "u_1,u_2,u_3,u_4,s_1,s_2,s_3,s_4&\\ge0\\\\\n",
    "\\end{aligned}\n",
    "\\implies\n",
    "\\begin{aligned}\n",
    "-5u_1+5u_2+9u_3-9u_4-8&=z\\\\\n",
    "3u_1-3u_2-5u_3+5u_4+s_1&=15\\\\\n",
    "-2u_1+2u_2+7u_3-7u_4-s_2&=-14\\\\\n",
    "5u_1-5u_2+4u_3-4u_4-s_3&=20\\\\\n",
    "5u_1-5u_2+4u_3-4u_4+s_4&=20\\\\\n",
    "u_1,u_2,u_3,u_4,s_1,s_2,s_3,s_4&\\ge0\\\\\n",
    "\\end{aligned}\n",
    "$"
   ]
  },
  {
   "attachments": {},
   "cell_type": "markdown",
   "metadata": {},
   "source": [
    "$\n",
    "\\mathbf{Ax=b}\n",
    "\\implies\n",
    "\\begin{bmatrix}\n",
    "3&-3&-5&5&1&0&0&0\\\\\n",
    "-2&2&7&-7&0&-1&0&0\\\\\n",
    "5&-5&4&-4&0&0&-1&0\\\\\n",
    "5&-5&4&-4&0&0&0&1\\\\\n",
    "\\end{bmatrix}\n",
    "\\begin{bmatrix}\n",
    "u_1\\\\u_2\\\\u_3\\\\u_4\\\\s_1\\\\s_2\\\\s_3\\\\s_4\\\\\n",
    "\\end{bmatrix}\n",
    "=\\begin{bmatrix}\n",
    "15\\\\-14\\\\20\\\\20\\\\\n",
    "\\end{bmatrix}\n",
    "$"
   ]
  },
  {
   "attachments": {},
   "cell_type": "markdown",
   "metadata": {},
   "source": [
    "$\n",
    "z=\\mathbf{cx}+d\n",
    "\\implies\n",
    "z=\n",
    "\\begin{bmatrix}\n",
    "-5&5&9&-9&0&0&0&0\\\\\n",
    "\\end{bmatrix}\n",
    "\\begin{bmatrix}\n",
    "u_1\\\\u_2\\\\u_3\\\\u_4\\\\s_1\\\\s_2\\\\s_3\\\\s_4\\\\\n",
    "\\end{bmatrix}\n",
    "-8\n",
    "$"
   ]
  },
  {
   "attachments": {},
   "cell_type": "markdown",
   "metadata": {},
   "source": [
    "Extended Tableau\n",
    "\n",
    "$\n",
    "\\begin{matrix}\n",
    "u_1&u_2&u_3&u_4&s_1&s_2&s_3&s_4&z\\\\\n",
    "3&-3&-5&5&1&0&0&0&0&15\\\\\n",
    "-2&2&7&-7&0&-1&0&0&0&-14\\\\\n",
    "5&-5&4&-4&0&0&-1&0&0&20\\\\\n",
    "5&-5&4&-4&0&0&0&1&0&20\\\\\n",
    "5&-5&-9&9&0&0&0&0&1&-8\\\\\n",
    "\\end{matrix}\n",
    "\\implies\n",
    "\\begin{matrix}\n",
    "u_1&u_2&u_3&u_4&s_1&s_2&s_3&s_4&z\\\\\n",
    "3&-3&-5&5&1&0&0&0&0&15\\\\\n",
    "2&-2&-7&7&0&1&0&0&0&14\\\\\n",
    "-5&5&-4&4&0&0&1&0&0&-20\\\\\n",
    "5&-5&4&-4&0&0&0&1&0&20\\\\\n",
    "5&-5&-9&9&0&0&0&0&1&-8\\\\\n",
    "\\end{matrix}\n",
    "$"
   ]
  },
  {
   "attachments": {},
   "cell_type": "markdown",
   "metadata": {},
   "source": [
    "Concise Tableau\n",
    "\n",
    "$\n",
    "\\begin{matrix}\n",
    "u_1&u_2&u_3&u_4&1\\\\\n",
    "3&-3&-5&5&15&s_1\\\\\n",
    "2&-2&-7&7&14&s_2\\\\\n",
    "-5&5&-4&4&-20&s_3\\\\\n",
    "5&-5&4&-4&20&s_4\\\\\n",
    "5&-5&-9&9&-8&z\\\\\n",
    "\\end{matrix}\n",
    "$"
   ]
  },
  {
   "attachments": {},
   "cell_type": "markdown",
   "metadata": {},
   "source": [
    "---"
   ]
  }
 ],
 "metadata": {
  "kernelspec": {
   "display_name": "main",
   "language": "python",
   "name": "python3"
  },
  "language_info": {
   "name": "python",
   "version": "3.10.8"
  },
  "orig_nbformat": 4,
  "vscode": {
   "interpreter": {
    "hash": "7934a2e895ecf0f9e222ea9c67d2028800f311cc59efafcc0f7e737f99c61e05"
   }
  }
 },
 "nbformat": 4,
 "nbformat_minor": 2
}
