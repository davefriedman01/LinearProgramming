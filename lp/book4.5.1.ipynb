{
 "cells": [
  {
   "attachments": {},
   "cell_type": "markdown",
   "metadata": {},
   "source": [
    "# LP"
   ]
  },
  {
   "attachments": {},
   "cell_type": "markdown",
   "metadata": {},
   "source": [
    "$\n",
    "\\begin{aligned}\n",
    "\\min z&=-x_1-x_2+7\\\\\n",
    "\\end{aligned}\n",
    "$\n",
    "\n",
    "subject to the linear constraints\n",
    "\n",
    "$\n",
    "\\begin{aligned}\n",
    "x_1+x_2&\\ge5\\\\\n",
    "-2x_1+3x_2&\\le9\\\\\n",
    "3x_1-2x_2&\\le12\\\\\n",
    "\\end{aligned}\n",
    "$"
   ]
  },
  {
   "attachments": {},
   "cell_type": "markdown",
   "metadata": {},
   "source": [
    "---"
   ]
  },
  {
   "attachments": {},
   "cell_type": "markdown",
   "metadata": {},
   "source": [
    "## Matrix Form"
   ]
  },
  {
   "cell_type": "markdown",
   "metadata": {},
   "source": [
    "\n",
    "Define $\\mathbf{A,b,c},d,\\mathbf{x}\\ni$\n",
    "\n",
    "$\n",
    "\\begin{aligned}\n",
    "\\min z&=\\mathbf{cx}+d\\\\\n",
    "\\mathbf{Ax}&=\\mathbf{b}\\\\\n",
    "\\mathbf{x}&\\ge0\\\\\n",
    "\\end{aligned}\n",
    "$\n",
    "\n",
    "is equivalent to the LP."
   ]
  },
  {
   "attachments": {},
   "cell_type": "markdown",
   "metadata": {},
   "source": [
    "$\n",
    "\\begin{aligned}\n",
    "x_1+x_2&\\ge5\\\\\n",
    "-2x_1+3x_2&\\le9\\\\\n",
    "3x_1-2x_2&\\le12\\\\\n",
    "-x_1-x_2+7&=z\\\\\n",
    "\\end{aligned}\\\\\n",
    "\\implies\\\\\n",
    "\\begin{aligned}\n",
    "x_1+x_2-s_1&=5\\\\\n",
    "-2x_1+3x_2+s_2&=9\\\\\n",
    "3x_1-2x_2+s_3&=12\\\\\n",
    "-x_1-x_2+7&=z\\\\\n",
    "s_1,s_2,s_3&\\ge0\\\\\n",
    "\\end{aligned}\\\\\n",
    "\\implies\\\\\n",
    "\\begin{aligned}\n",
    "(u_1-u_2)+(u_3-u_4)-s_1&=5\\\\\n",
    "-2(u_1-u_2)+3(u_3-u_4)+s_2&=9\\\\\n",
    "3(u_1-u_2)-2(u_3-u_4)+s_3&=12\\\\\n",
    "-(u_1-u_2)-(u_3-u_4)+7&=z\\\\\n",
    "u_1,u_2,u_3,u_4,s_1,s_2,s_3&\\ge0\\\\\n",
    "\\end{aligned}\\\\\n",
    "\\implies\\\\\n",
    "\\begin{aligned}\n",
    "u_1-u_2+u_3-u_4-s_1&=5\\\\\n",
    "-2u_1+2u_2+3u_3-3u_4+s_2&=9\\\\\n",
    "3u_1-3u_2-2u_3+2u_4+s_3&=12\\\\\n",
    "-u_1+u_2-u_3+u_4+7&=z\\\\\n",
    "u_1,u_2,u_3,u_4,s_1,s_2,s_3&\\ge0\\\\\n",
    "\\end{aligned}\\\\\n",
    "$\n",
    "\n",
    "$\n",
    "\\mathbf{Ax=b}\n",
    "\\implies\n",
    "\\begin{bmatrix}\n",
    "1&-1&1&-1&-1&0&0\\\\\n",
    "-2&2&3&-3&0&1&0\\\\\n",
    "3&-3&-2&2&0&0&1\\\\\n",
    "\\end{bmatrix}\n",
    "\\begin{bmatrix}\n",
    "u_1\\\\u_2\\\\u_3\\\\u_4\\\\s_1\\\\s_2\\\\s_3\\\\\n",
    "\\end{bmatrix}\n",
    "=\\begin{bmatrix}\n",
    "5\\\\9\\\\12\\\\\n",
    "\\end{bmatrix}\\\\\n",
    "$\n",
    "\n",
    "$\n",
    "z=\\mathbf{cx}+d\n",
    "\\implies\n",
    "z=\n",
    "\\begin{bmatrix}\n",
    "-1&1&-1&1&0&0&0\\\\\n",
    "\\end{bmatrix}\n",
    "\\begin{bmatrix}\n",
    "u_1\\\\u_2\\\\u_3\\\\u_4\\\\s_1\\\\s_2\\\\s_3\\\\\n",
    "\\end{bmatrix}\n",
    "+7\n",
    "$"
   ]
  },
  {
   "attachments": {},
   "cell_type": "markdown",
   "metadata": {},
   "source": [
    "---"
   ]
  },
  {
   "attachments": {},
   "cell_type": "markdown",
   "metadata": {},
   "source": [
    "Extended Row Tableau"
   ]
  },
  {
   "attachments": {},
   "cell_type": "markdown",
   "metadata": {},
   "source": [
    "$\n",
    "\\begin{bmatrix}\n",
    "u_1&u_2&u_3&u_4&s_1&s_2&s_3&z\\\\\n",
    "1&-1&1&-1&-1&0&0&0&5\\\\\n",
    "-2&2&3&-3&0&1&0&0&9\\\\\n",
    "3&-3&-2&2&0&0&1&0&12\\\\\n",
    "1&-1&1&-1&0&0&0&1&7\\\\\n",
    "\\end{bmatrix}\n",
    "\\implies\n",
    "\\begin{bmatrix}\n",
    "u_1&u_2&u_3&u_4&s_1&s_2&s_3&z\\\\\n",
    "-1&1&-1&1&1&0&0&0&-5\\\\\n",
    "-2&2&3&-3&0&1&0&0&9\\\\\n",
    "3&-3&-2&2&0&0&1&0&12\\\\\n",
    "1&-1&1&-1&0&0&0&1&7\\\\\n",
    "\\end{bmatrix}\n",
    "$"
   ]
  },
  {
   "attachments": {},
   "cell_type": "markdown",
   "metadata": {},
   "source": [
    "---"
   ]
  },
  {
   "attachments": {},
   "cell_type": "markdown",
   "metadata": {},
   "source": [
    "Concise Row Tableau"
   ]
  },
  {
   "attachments": {},
   "cell_type": "markdown",
   "metadata": {},
   "source": [
    "$\n",
    "\\begin{bmatrix}\n",
    "u_1&u_2&u_3&u_4&1\\\\\n",
    "1&-1&1^*&-1&-5&s_1\\\\\n",
    "2&-2&-3&3&9&s_2\\\\\n",
    "-3&3&2&-2&12&s_3\\\\\n",
    "-1&1&-1&1&7&z\\\\\n",
    "\\end{bmatrix}\\\\\n",
    "\\implies\\\\\n",
    "\\begin{bmatrix}\n",
    "u_1&u_2&s_1&u_4&1\\\\\n",
    "-1&1&1&1&5&u_3\\\\\n",
    "5^*&-5&-3&0&-6&s_2\\\\\n",
    "-5&5&2&0&22&s_3\\\\\n",
    "0&0&-1&0&2&z\\\\\n",
    "\\end{bmatrix}\\\\\n",
    "\\implies\\\\\n",
    "\\begin{bmatrix}\n",
    "s_2&u_2&s_1&u_4&1\\\\\n",
    "-\\frac{1}{5}&0&\\frac{2}{5}&1&\\frac{19}{5}&u_3\\\\\n",
    "\\frac{1}{5}&1&\\frac{3}{5}&0&\\frac{6}{5}&u_1\\\\\n",
    "-1&0&-1&0&16&s_3\\\\\n",
    "0&0&-1&0&2&z\\\\\n",
    "\\end{bmatrix}\n",
    "$"
   ]
  }
 ],
 "metadata": {
  "kernelspec": {
   "display_name": "main",
   "language": "python",
   "name": "python3"
  },
  "language_info": {
   "name": "python",
   "version": "3.10.8"
  },
  "orig_nbformat": 4,
  "vscode": {
   "interpreter": {
    "hash": "7934a2e895ecf0f9e222ea9c67d2028800f311cc59efafcc0f7e737f99c61e05"
   }
  }
 },
 "nbformat": 4,
 "nbformat_minor": 2
}
