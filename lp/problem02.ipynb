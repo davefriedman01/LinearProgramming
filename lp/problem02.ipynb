{
 "cells": [
  {
   "attachments": {},
   "cell_type": "markdown",
   "metadata": {},
   "source": [
    "LP\n",
    "\n",
    "$\n",
    "\\begin{aligned}\n",
    "\\min z&=3x_1-5x_2+8\\\\\n",
    "\\end{aligned}\n",
    "$\n",
    "\n",
    "subject to the constraints\n",
    "\n",
    "$\n",
    "\\begin{aligned}\n",
    "-2x_1+7x_2&\\ge-14\\\\\n",
    "5x_1-4x_2&\\le20\\\\\n",
    "-4x_1+3x_2&=12\\\\\n",
    "\\end{aligned}\n",
    "$"
   ]
  },
  {
   "attachments": {},
   "cell_type": "markdown",
   "metadata": {},
   "source": [
    "---"
   ]
  },
  {
   "attachments": {},
   "cell_type": "markdown",
   "metadata": {},
   "source": [
    "Define $\\mathbf{A,b,c},d,\\mathbf{x}\\ni$\n",
    "\n",
    "$\n",
    "\\begin{aligned}\n",
    "\\max z&=\\mathbf{cx}+d\\\\\n",
    "\\mathbf{Ax}&\\ge\\mathbf{b}\\\\\n",
    "\\mathbf{x}&\\ge0\\\\\n",
    "\\end{aligned}\n",
    "$\n",
    "\n",
    "is equivalent to the LP"
   ]
  },
  {
   "cell_type": "markdown",
   "metadata": {},
   "source": [
    "$\n",
    "\\begin{aligned}\n",
    "-2x_1-7x_2&\\ge-14\\\\\n",
    "5x_1-4x_2&\\le20\\\\\n",
    "-4x_1+3x_2&=12\\\\\n",
    "\\implies\\\\\n",
    "-2x_1-7x_2&\\ge-14\\\\\n",
    "-5x_1+4x_2&\\ge-20\\\\\n",
    "-4x_1+3x_2&=12\\\\\n",
    "\\implies\\\\\n",
    "-2x_1-7x_2&\\ge-14\\\\\n",
    "-5x_1+4x_2&\\ge-20\\\\\n",
    "-4x_1+3x_2&\\ge12\\\\\n",
    "-4x_1+3x_2&\\le12\\\\\n",
    "\\implies\\\\\n",
    "-2x_1-7x_2&\\ge-14\\\\\n",
    "-5x_1+4x_2&\\ge-20\\\\\n",
    "-4x_1+3x_2&\\ge12\\\\\n",
    "4x_1-3x_2&\\ge-12\\\\\n",
    "\\end{aligned}\n",
    "$"
   ]
  },
  {
   "cell_type": "markdown",
   "metadata": {},
   "source": [
    "$\n",
    "\\begin{aligned}\n",
    "\\mathbf{Ax=b}\n",
    "\\implies\n",
    "\\begin{bmatrix}\n",
    "-2&2&-7&7\\\\\n",
    "-5&5&4&-4\\\\\n",
    "-4&4&3&-3\\\\\n",
    "4&-4&-3&3\\\\\n",
    "\\end{bmatrix}\n",
    "\\begin{bmatrix}\n",
    "u_1\\\\u_2\\\\u_3\\\\u_4\\\\\n",
    "\\end{bmatrix}\n",
    "=\\begin{bmatrix}\n",
    "-14\\\\-20\\\\12\\\\-12\\\\\n",
    "\\end{bmatrix}\n",
    "\\end{aligned}\n",
    "$"
   ]
  }
 ],
 "metadata": {
  "kernelspec": {
   "display_name": "main",
   "language": "python",
   "name": "python3"
  },
  "language_info": {
   "name": "python",
   "version": "3.10.8"
  },
  "orig_nbformat": 4,
  "vscode": {
   "interpreter": {
    "hash": "7934a2e895ecf0f9e222ea9c67d2028800f311cc59efafcc0f7e737f99c61e05"
   }
  }
 },
 "nbformat": 4,
 "nbformat_minor": 2
}
