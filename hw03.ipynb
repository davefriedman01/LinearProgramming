{
 "cells": [
  {
   "attachments": {},
   "cell_type": "markdown",
   "metadata": {},
   "source": [
    "# LP"
   ]
  },
  {
   "attachments": {},
   "cell_type": "markdown",
   "metadata": {},
   "source": [
    "$\n",
    "\\begin{aligned}\n",
    "\\min z&=8x_1+2x_2+6\\\\\n",
    "\\end{aligned}\n",
    "$\n",
    "\n",
    "subject to the constraints\n",
    "\n",
    "$\n",
    "\\begin{aligned}\n",
    "3x_1-5x_2&\\ge12\\\\\n",
    "-2x_1+7x_2&\\ge-20\\\\\n",
    "x_1+2x_2&\\le-3\\\\\n",
    "-5x_1-2x_2&\\le8\\\\\n",
    "\\end{aligned}\n",
    "$"
   ]
  },
  {
   "attachments": {},
   "cell_type": "markdown",
   "metadata": {},
   "source": [
    "---"
   ]
  },
  {
   "attachments": {},
   "cell_type": "markdown",
   "metadata": {},
   "source": [
    "## Expressing an LP as a greater-than problem or a less-than problem"
   ]
  },
  {
   "attachments": {},
   "cell_type": "markdown",
   "metadata": {},
   "source": [
    "$\n",
    "\\begin{aligned}\n",
    "g\\ge b&\\iff-g\\le-b\\\\\n",
    "g\\le b&\\iff-g\\ge-b\\\\\n",
    "\\end{aligned}\n",
    "$\n",
    "\n",
    "$\n",
    "\\begin{aligned}\n",
    "\\mathbf{Ax}\\ge\\mathbf{b}&\\iff-\\mathbf{Ax}\\le-\\mathbf{b}\\\\\n",
    "\\mathbf{Ax}\\le\\mathbf{b}&\\iff-\\mathbf{Ax}\\ge-\\mathbf{b}\\\\\n",
    "\\end{aligned}\n",
    "$"
   ]
  },
  {
   "attachments": {},
   "cell_type": "markdown",
   "metadata": {},
   "source": [
    "---"
   ]
  },
  {
   "attachments": {},
   "cell_type": "markdown",
   "metadata": {},
   "source": [
    "Define $\\mathbf{A,b,c},d,\\mathbf{x}\\ni$\n",
    "\n",
    "$\n",
    "\\begin{aligned}\n",
    "\\min z&=\\mathbf{cx}+d\\\\\n",
    "\\mathbf{Ax}&\\ge\\mathbf{b}\\\\\n",
    "\\mathbf{x}&\\ge0\\\\\n",
    "\\end{aligned}\n",
    "$\n",
    "\n",
    "is equivalent to the LP"
   ]
  },
  {
   "attachments": {},
   "cell_type": "markdown",
   "metadata": {},
   "source": [
    "---"
   ]
  },
  {
   "attachments": {},
   "cell_type": "markdown",
   "metadata": {},
   "source": [
    "$\n",
    "\\begin{aligned}\n",
    "3x_1-5x_2&\\ge12\\\\\n",
    "-2x_1+7x_2&\\ge-20\\\\\n",
    "x_1+2x_2&\\le-3\\\\\n",
    "-5x_1-2x_2&\\le8\\\\\n",
    "\\end{aligned}\n",
    "\\implies\n",
    "\\begin{aligned}\n",
    "3x_1-5x_2&\\ge12\\\\\n",
    "-2x_1+7x_2&\\ge-20\\\\\n",
    "-x_1-2x_2&\\ge3\\\\\n",
    "5x_1+2x_2&\\ge-8\\\\\n",
    "\\end{aligned}\n",
    "$"
   ]
  },
  {
   "attachments": {},
   "cell_type": "markdown",
   "metadata": {},
   "source": [
    "if\n",
    "\n",
    "$\n",
    "\\begin{aligned}\n",
    "x_1&=u_1-u_2\\\\\n",
    "x_2&=u_3-u_4\\\\\n",
    "u_1,u_2,u_3,u_4&\\ge0\\\\\n",
    "\\end{aligned}\n",
    "$\n",
    "\n",
    "then\n",
    "\n",
    "$\n",
    "\\begin{aligned}\n",
    "8(u_1-u_2)+2(u_3-u_4)+6&=z\\\\\n",
    "3(u_1-u_2)-5(u_3-u_4)&\\ge12\\\\\n",
    "-2(u_1-u_2)+7(u_3-u_4)&\\ge-20\\\\\n",
    "-(u_1-u_2)-2(u_3-u_4)&\\ge3\\\\\n",
    "5(u_1-u_2)+2(u_3-u_4)&\\ge-8\\\\\n",
    "u_1,u_2,u_3,u_4&\\ge0\\\\\n",
    "\\end{aligned}\n",
    "\\implies\n",
    "\\begin{aligned}\n",
    "8u_1-8u_2+2u_3-2u_4+6&=z\\\\\n",
    "3u_1-3u_2-5u_3+5u_4&\\ge12\\\\\n",
    "-2u_1+2u_2+7u_3-7u_4&\\ge-20\\\\\n",
    "-u_1+u_2-2u_3+2u_4&\\ge3\\\\\n",
    "5u_1-5u_2+2u_3-2u_4&\\ge-8\\\\\n",
    "u_1,u_2,u_3,u_4&\\ge0\\\\\n",
    "\\end{aligned}\n",
    "$"
   ]
  },
  {
   "attachments": {},
   "cell_type": "markdown",
   "metadata": {},
   "source": [
    "$\n",
    "\\mathbf{Ax\\ge b}\n",
    "\\implies\n",
    "\\begin{bmatrix}\n",
    "3&-3&-5&5\\\\\n",
    "-2&2&7&-7\\\\\n",
    "-1&1&-2&2\\\\\n",
    "5&-5&2&-2\\\\\n",
    "\\end{bmatrix}\n",
    "\\begin{bmatrix}\n",
    "u_1\\\\u_2\\\\u_3\\\\u_4\\\\\n",
    "\\end{bmatrix}\n",
    "\\ge\\begin{bmatrix}\n",
    "12\\\\-20\\\\3\\\\-8\\\\\n",
    "\\end{bmatrix}\n",
    "$"
   ]
  },
  {
   "attachments": {},
   "cell_type": "markdown",
   "metadata": {},
   "source": [
    "$\n",
    "z=\\mathbf{cx}+d\n",
    "\\implies\n",
    "z=\n",
    "\\begin{bmatrix}\n",
    "8&-8&2&-2\\\\\n",
    "\\end{bmatrix}\n",
    "\\begin{bmatrix}\n",
    "u_1\\\\u_2\\\\u_3\\\\u_4\\\\\n",
    "\\end{bmatrix}\n",
    "+6\n",
    "$"
   ]
  },
  {
   "attachments": {},
   "cell_type": "markdown",
   "metadata": {},
   "source": [
    "---"
   ]
  },
  {
   "attachments": {},
   "cell_type": "markdown",
   "metadata": {},
   "source": [
    "Define $\\mathbf{A,b,c},d,\\mathbf{x}\\ni$\n",
    "\n",
    "$\n",
    "\\begin{aligned}\n",
    "\\min z&=\\mathbf{cx}+d\\\\\n",
    "\\mathbf{Ax}&\\le\\mathbf{b}\\\\\n",
    "\\mathbf{x}&\\ge0\\\\\n",
    "\\end{aligned}\n",
    "$\n",
    "\n",
    "is equivalent to the LP"
   ]
  },
  {
   "attachments": {},
   "cell_type": "markdown",
   "metadata": {},
   "source": [
    "---"
   ]
  },
  {
   "attachments": {},
   "cell_type": "markdown",
   "metadata": {},
   "source": [
    "$\n",
    "\\begin{aligned}\n",
    "3x_1-5x_2&\\ge12\\\\\n",
    "-2x_1+7x_2&\\ge-20\\\\\n",
    "x_1+2x_2&\\le-3\\\\\n",
    "-5x_1-2x_2&\\le8\\\\\n",
    "\\end{aligned}\n",
    "\\implies\n",
    "\\begin{aligned}\n",
    "-3x_1+5x_2&\\le-12\\\\\n",
    "2x_1-7x_2&\\le20\\\\\n",
    "x_1+2x_2&\\le-3\\\\\n",
    "-5x_1-2x_2&\\le8\\\\\n",
    "\\end{aligned}\n",
    "$"
   ]
  },
  {
   "attachments": {},
   "cell_type": "markdown",
   "metadata": {},
   "source": [
    "if\n",
    "\n",
    "$\n",
    "\\begin{aligned}\n",
    "x_1&=u_1-u_2\\\\\n",
    "x_2&=u_3-u_4\\\\\n",
    "u_1,u_2,u_3,u_4&\\ge0\\\\\n",
    "\\end{aligned}\n",
    "$\n",
    "\n",
    "then\n",
    "\n",
    "$\n",
    "\\begin{aligned}\n",
    "8(u_1-u_2)+2(u_3-u_4)+6&=z\\\\\n",
    "-3(u_1-u_2)+5(u_3-u_4)&\\le-12\\\\\n",
    "2(u_1-u_2)-7(u_3-u_4)&\\le20\\\\\n",
    "(u_1-u_2)+2(u_3-u_4)&\\le-3\\\\\n",
    "-5(u_1-u_2)-2(u_3-u_4)&\\le8\\\\\n",
    "u_1,u_2,u_3,u_4&\\ge0\\\\\n",
    "\\end{aligned}\n",
    "\\implies\n",
    "\\begin{aligned}\n",
    "8u_1-8u_2+2u_3-2u_4+6&=z\\\\\n",
    "-3u_1+3u_2+5u_3-5u_4&\\le-12\\\\\n",
    "2u_1-2u_2-7u_3+7u_4&\\le20\\\\\n",
    "u_1-u_2+2u_3-2u_4&\\le-3\\\\\n",
    "-5u_1+5u_2-2u_3+2u_4&\\le8\\\\\n",
    "u_1,u_2,u_3,u_4&\\ge0\\\\\n",
    "\\end{aligned}\n",
    "$"
   ]
  },
  {
   "attachments": {},
   "cell_type": "markdown",
   "metadata": {},
   "source": [
    "$\n",
    "\\mathbf{Ax\\le b}\n",
    "\\implies\n",
    "\\begin{bmatrix}\n",
    "-3&3&5&-5\\\\\n",
    "2&-2&-7&7\\\\\n",
    "1&-1&2&-2\\\\\n",
    "-5&5&-2&2\\\\\n",
    "\\end{bmatrix}\n",
    "\\begin{bmatrix}\n",
    "u_1\\\\u_2\\\\u_3\\\\u_4\\\\\n",
    "\\end{bmatrix}\n",
    "\\le\\begin{bmatrix}\n",
    "-12\\\\20\\\\-3\\\\8\\\\\n",
    "\\end{bmatrix}\n",
    "$"
   ]
  },
  {
   "attachments": {},
   "cell_type": "markdown",
   "metadata": {},
   "source": [
    "---"
   ]
  },
  {
   "attachments": {},
   "cell_type": "markdown",
   "metadata": {},
   "source": [
    "## Expressing a $\\min$ problem as a $\\max$ problem and vice versa"
   ]
  },
  {
   "attachments": {},
   "cell_type": "markdown",
   "metadata": {},
   "source": [
    "$\n",
    "-\\max -z=\\min z\\\\\n",
    "\\implies\\\\\n",
    "-\\max -\\mathbf{cx}-d=\\min\\mathbf{cx}+d\\\\\n",
    "\\implies\\\\\n",
    "\\max \\mathbf{cx}+d=-\\min-\\mathbf{cx}-d\\\\\n",
    "\\implies\\\\\n",
    "\\max z=-\\min -z\\\\\n",
    "$"
   ]
  },
  {
   "attachments": {},
   "cell_type": "markdown",
   "metadata": {},
   "source": [
    "---"
   ]
  },
  {
   "cell_type": "markdown",
   "metadata": {},
   "source": [
    "\n",
    "Define $\\mathbf{A,b,c},d,\\mathbf{x}\\ni$\n",
    "\n",
    "$\n",
    "\\begin{aligned}\n",
    "\\max z&=\\mathbf{cx}+d\\\\\n",
    "\\mathbf{Ax}&\\ge\\mathbf{b}\\\\\n",
    "\\mathbf{x}&\\ge0\\\\\n",
    "\\end{aligned}\n",
    "$\n",
    "\n",
    "is equivalent to the LP"
   ]
  },
  {
   "attachments": {},
   "cell_type": "markdown",
   "metadata": {},
   "source": [
    "---"
   ]
  },
  {
   "attachments": {},
   "cell_type": "markdown",
   "metadata": {},
   "source": [
    "$\n",
    "z=\\mathbf{cx}+d\n",
    "\\implies\n",
    "z=\n",
    "\\begin{bmatrix}\n",
    "-8&8&-2&2\\\\\n",
    "\\end{bmatrix}\n",
    "\\begin{bmatrix}\n",
    "u_1\\\\u_2\\\\u_3\\\\u_4\\\\\n",
    "\\end{bmatrix}\n",
    "-6\n",
    "$"
   ]
  },
  {
   "attachments": {},
   "cell_type": "markdown",
   "metadata": {},
   "source": [
    "---"
   ]
  },
  {
   "attachments": {},
   "cell_type": "markdown",
   "metadata": {},
   "source": [
    "## Putting both transformations together"
   ]
  },
  {
   "attachments": {},
   "cell_type": "markdown",
   "metadata": {},
   "source": [
    "---"
   ]
  },
  {
   "attachments": {},
   "cell_type": "markdown",
   "metadata": {},
   "source": [
    "Define $\\mathbf{A,b,c},d,\\mathbf{x}\\ni$\n",
    "\n",
    "$\n",
    "\\begin{aligned}\n",
    "\\max z&=\\mathbf{cx}+d\\\\\n",
    "\\mathbf{Ax}&\\le\\mathbf{b}\\\\\n",
    "\\mathbf{x}&\\ge0\\\\\n",
    "\\end{aligned}\n",
    "$\n",
    "\n",
    "is equivalent to the LP"
   ]
  },
  {
   "attachments": {},
   "cell_type": "markdown",
   "metadata": {},
   "source": [
    "---"
   ]
  },
  {
   "attachments": {},
   "cell_type": "markdown",
   "metadata": {},
   "source": [
    "$\n",
    "\\mathbf{Ax\\le b}\n",
    "\\implies\n",
    "\\begin{bmatrix}\n",
    "-3&3&5&-5\\\\\n",
    "2&-2&-7&7\\\\\n",
    "1&-1&2&-2\\\\\n",
    "-5&5&-2&2\\\\\n",
    "\\end{bmatrix}\n",
    "\\begin{bmatrix}\n",
    "u_1\\\\u_2\\\\u_3\\\\u_4\\\\\n",
    "\\end{bmatrix}\n",
    "\\le\\begin{bmatrix}\n",
    "-12\\\\20\\\\-3\\\\8\\\\\n",
    "\\end{bmatrix}\n",
    "$"
   ]
  },
  {
   "attachments": {},
   "cell_type": "markdown",
   "metadata": {},
   "source": [
    "$\n",
    "z=\\mathbf{cx}+d\n",
    "\\implies\n",
    "z=\n",
    "\\begin{bmatrix}\n",
    "-8&8&-2&2\\\\\n",
    "\\end{bmatrix}\n",
    "\\begin{bmatrix}\n",
    "u_1\\\\u_2\\\\u_3\\\\u_4\\\\\n",
    "\\end{bmatrix}\n",
    "-6\n",
    "$"
   ]
  }
 ],
 "metadata": {
  "kernelspec": {
   "display_name": "main",
   "language": "python",
   "name": "python3"
  },
  "language_info": {
   "name": "python",
   "version": "3.10.8"
  },
  "orig_nbformat": 4,
  "vscode": {
   "interpreter": {
    "hash": "7934a2e895ecf0f9e222ea9c67d2028800f311cc59efafcc0f7e737f99c61e05"
   }
  }
 },
 "nbformat": 4,
 "nbformat_minor": 2
}
