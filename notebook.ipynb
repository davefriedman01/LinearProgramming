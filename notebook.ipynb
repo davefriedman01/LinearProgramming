{
 "cells": [
  {
   "attachments": {},
   "cell_type": "markdown",
   "metadata": {},
   "source": [
    "# MATH 484 Linear Programs and Related Problems"
   ]
  },
  {
   "attachments": {},
   "cell_type": "markdown",
   "metadata": {},
   "source": [
    "MATH 484 Linear Programs and Related Problems\n",
    "\n",
    "The Pennsylvania State University\n",
    "\n",
    "Based on Prof. Christopher Byrne's lecture materials and his _Linear Programs I: A Clear, Concise, and Practical Introduction to Linear Programs and Duality Theory with Applications to Return On Investment (ROI)_."
   ]
  },
  {
   "attachments": {},
   "cell_type": "markdown",
   "metadata": {},
   "source": [
    "---"
   ]
  },
  {
   "attachments": {},
   "cell_type": "markdown",
   "metadata": {},
   "source": [
    "## Imports & Environment"
   ]
  },
  {
   "cell_type": "code",
   "execution_count": 1,
   "metadata": {},
   "outputs": [
    {
     "name": "stdout",
     "output_type": "stream",
     "text": [
      "EXECUTED            : 2023-01-18 09:12:50.281421\n",
      "\n",
      "Platform            : 13.1 | Darwin | 22.2.0 | arm64\n",
      "                    : UTF-8\n",
      "\n",
      "Python              : 3.10.8 | packaged by conda-forge | (main, Nov 22 2022, 08:25:13) [Clang 14.0.6 ]\n",
      "                    : sys.version_info(major=3, minor=10, micro=8, releaselevel='final', serial=0)\n",
      "                    : CPython\n",
      "\n",
      "NumPy               : 1.24.0\n",
      "Pandas              : 1.5.2\n"
     ]
    }
   ],
   "source": [
    "import numpy                    as np\n",
    "import pandas                   as pd\n",
    "\n",
    "from   datetime import datetime as d\n",
    "import locale                   as l\n",
    "import platform                 as p\n",
    "import sys                      as s\n",
    "\n",
    "pad = 20\n",
    "print(f\"{'Executed'.upper():<{pad}}: {d.now()}\")\n",
    "print()\n",
    "print(f\"{'Platform'        :<{pad}}: \"\n",
    "      f\"{p.mac_ver()[0]} | \"\n",
    "      f\"{p.system()} | \"\n",
    "      f\"{p.release()} | \"\n",
    "      f\"{p.machine()}\")\n",
    "print(f\"{''                :<{pad}}: {l.getpreferredencoding()}\")\n",
    "print()\n",
    "print(f\"{'Python'          :<{pad}}: {s.version}\")\n",
    "print(f\"{''                :<{pad}}: {s.version_info}\")\n",
    "print(f\"{''                :<{pad}}: {p.python_implementation()}\")\n",
    "print()\n",
    "print(f\"{'NumPy'           :<{pad}}: {np.__version__}\")\n",
    "print(f\"{'Pandas'          :<{pad}}: {pd.__version__}\")"
   ]
  },
  {
   "attachments": {},
   "cell_type": "markdown",
   "metadata": {},
   "source": [
    "---"
   ]
  },
  {
   "attachments": {},
   "cell_type": "markdown",
   "metadata": {},
   "source": [
    "\\begin{align}\n",
    "\\text{max} \\,\\,\\, 20x_1 + 10x_2 & \\,\\,\\, \\text{s.t.} \\\\\n",
    "30x_1 + 10x_2 &\\le 400 \\\\\n",
    " 3x_1 +  4x_2 &\\le  80 \\\\\n",
    "          x_1 &\\le  10 \\\\\n",
    "          x_2 &\\le  40 \\\\\n",
    "     x_1, x_2 &\\ge   0 \\\\\n",
    "\\end{align}"
   ]
  },
  {
   "attachments": {},
   "cell_type": "markdown",
   "metadata": {},
   "source": [
    "---"
   ]
  },
  {
   "attachments": {},
   "cell_type": "markdown",
   "metadata": {},
   "source": [
    "The goal of an LP is to find the decision that optimizes some objective subject to certain constraints."
   ]
  },
  {
   "attachments": {},
   "cell_type": "markdown",
   "metadata": {},
   "source": [
    "---"
   ]
  },
  {
   "attachments": {},
   "cell_type": "markdown",
   "metadata": {},
   "source": [
    "## 6 Matrix Forms"
   ]
  },
  {
   "attachments": {},
   "cell_type": "markdown",
   "metadata": {},
   "source": [
    "1\n",
    "\n",
    "$\n",
    "\\begin{align}\n",
    "\\text{max} \\,\\,\\, & cx+d \\\\\n",
    "Ax &\\ge b \\\\\n",
    "x &\\ge 0 \\\\\n",
    "\\end{align}\n",
    "$\n",
    "\n",
    "2\n",
    "\n",
    "$\n",
    "\\begin{align}\n",
    "Ax&\\le b \\\\\n",
    "x&\\ge0\n",
    "\\end{align}\n",
    "$\n",
    "\n",
    "3\n",
    "\n",
    "$\n",
    "\\begin{align}\n",
    "Ax&= b \\\\\n",
    "x&\\ge0\n",
    "\\end{align}\n",
    "$"
   ]
  },
  {
   "attachments": {},
   "cell_type": "markdown",
   "metadata": {},
   "source": [
    "---"
   ]
  },
  {
   "attachments": {},
   "cell_type": "markdown",
   "metadata": {},
   "source": [
    "1.2 Def - LINEAR FUNCTION\n",
    "\n",
    "A function $f : \\mathbb{R}^n \\rightarrow \\mathbb{R}$ is linear if $f(ax + y) = af(x) + f(y) \\,\\,\\, \\forall{x, y} \\in \\mathbb{R}^n, \\forall{a} \\in \\mathbb{R}$.\n",
    "\n",
    "Note that if $f : \\mathbb{R}^n \\rightarrow \\mathbb{R}$ is linear, then $f(\\boldsymbol{0}) = 0$."
   ]
  },
  {
   "attachments": {},
   "cell_type": "markdown",
   "metadata": {},
   "source": [
    "1.3 Def - AFFINE FUNCTION\n",
    "\n",
    "A function $g : \\mathbb{R}$ is affine if $f(x) = g(x) + c \\,\\,\\, \\forall{x} \\in \\mathbb{R}^n$ where $g$ is linear and $c \\in \\mathbb{R}$.\n",
    "\n",
    "In other words, an affine function is just a linear function plus a constant."
   ]
  },
  {
   "attachments": {},
   "cell_type": "markdown",
   "metadata": {},
   "source": [
    "1.4 Def - LINEAR CONSTRAINT\n",
    "\n",
    "A linear constraint uses a linear function $f : \\mathbb{R}^n \\rightarrow \\mathbb{R}$ and a constant $b \\in \\mathbb{R}$ to limit the values of a variable $x \\in \\mathbb{R}^n$ by requiring either $f(x) \\le b$, $f(x) \\ge b$, or $f(x) = b$.\n",
    "\n",
    "Only weak inequalities are allowed, which makes the solution set closed.\n",
    "\n",
    "Note that any affine constraint can be rewritten as a linear constraint."
   ]
  },
  {
   "attachments": {},
   "cell_type": "markdown",
   "metadata": {},
   "source": [
    "1.5 Def - [LP] LINEAR PROGRAM\n",
    "\n",
    "An LP is a problem of optimizing an affine function subject to finitely many linear constraints.\n",
    "\n",
    "The function to be optimized is called the objective function.\n",
    "\n",
    "Note that any affine objective function $f(x) + c$ attains its max (or min) where $f(x)$ attains its max (or min).\n",
    "\n",
    "The constant $c$ only changes the optimal value of $f$, not the values of $x$ at which $f$ attains its maximum (or minimum)."
   ]
  },
  {
   "attachments": {},
   "cell_type": "markdown",
   "metadata": {},
   "source": [
    "1.6 Def - FEASIBLE SET\n",
    "\n",
    "The feasible set of an LP is the set of all $x \\in \\mathbb{R}^n$ that satisfy all the constraints of the LP.\n",
    "\n",
    "The feasible set may also be called the constraint set or the feasible region."
   ]
  },
  {
   "attachments": {},
   "cell_type": "markdown",
   "metadata": {},
   "source": [
    "1.7,1.8 Def - OPTIMAL/SOLUTION SET\n",
    "\n",
    "$\\arg\\max_{\\Gamma}(f) = \\{ x \\in \\Gamma \\,\\,\\, | \\,\\,\\, f(x) \\ge f(y) \\,\\,\\, \\forall{y} \\in \\Gamma \\}$\n",
    "\n",
    "$\\arg\\max_{\\Gamma}(f)$ is the set of points at which $f$ attains its maximum over the set $\\Gamma$.\n",
    "\n",
    "$\\arg\\min_{\\Gamma}(f) = \\{ x \\in \\Gamma \\,\\,\\, | \\,\\,\\, f(x) \\le f(y) \\,\\,\\, \\forall{y} \\in \\Gamma \\}$\n",
    "\n",
    "$\\arg\\min_{\\Gamma}(f)$ is the set of points at which $f$ attains its minimum over the set $\\Gamma$.\n",
    "\n",
    "If $\\Gamma$ is the feasible set of an LP, then the optimal/solution set of the LP is $\\argmax_{\\Gamma}(f)$, if the LP is to maximize $f$, or $\\argmin_{\\Gamma}(f)$, if the LP is to minimize $f$."
   ]
  },
  {
   "attachments": {},
   "cell_type": "markdown",
   "metadata": {},
   "source": [
    "1.9 Def - OPTIMAL VALUE\n",
    "\n",
    "The optimal value of a maximization LP is $\\text{max}_{\\Gamma}(f)$ where $\\Gamma$ is the feasible region of the LP.\n",
    "\n",
    "The optimal value of a minimization LP is $\\text{min}_{\\Gamma}(f)$ where $\\Gamma$ is the feasible region of the LP."
   ]
  },
  {
   "attachments": {},
   "cell_type": "markdown",
   "metadata": {},
   "source": [
    "1.10 Def - LP SOLUTION\n",
    "\n",
    "The solution to an LP consists of the optimal set and the optimal value.\n",
    "\n",
    "In other words, solving an LP means finding both the optimal set and the optimal value."
   ]
  },
  {
   "attachments": {},
   "cell_type": "markdown",
   "metadata": {},
   "source": [
    "1.11 Def - GRADIENT\n",
    "\n",
    "Let $f : \\mathbb{R}^n \\rightarrow \\mathbb{R}$. The gradient of $f$ is $\\nabla{f} = \\left( \\frac{\\partial f}{\\partial x_1}, ..., \\frac{\\partial f}{\\partial x_n} \\right)$.\n",
    "\n",
    "Note that if $f$ is linear or affine, then $\\nabla{f}$ is constant.\n",
    "\n",
    "The significance of the vector $\\nabla{f}$ is that it points in the direction of the maximum rate of increase of $f$ per unit Euclidean distance change in the variable $x$ as it varies through $\\mathbb{R}^n$."
   ]
  },
  {
   "attachments": {},
   "cell_type": "markdown",
   "metadata": {},
   "source": [
    "1.12 Def - DIRECTIONAL DERIVATIVE\n",
    "\n",
    "If $u \\in \\mathbb{R}^n$ is a nonzero vector and $f : \\mathbb{R}^n \\rightarrow \\mathbb{R}$ is a function, then the directional derivative of $f$ in the direction of $u$ equals $\\frac{\\nabla{f} \\cdot u}{||u||}$.\n",
    "\n",
    "Note that the sign of the directional derivative does not depend on the magnitude of $u$. So $\\nabla{f} \\cdot u$ can be used in place of the true directional derivative when only the sign is needed. The sign is enough to tell whether $f$ increases $(\\nabla{f} \\cdot u \\ge 0)$; decreases $(\\nabla{f} \\cdot u \\le 0)$; or remains constant $(\\nabla{f} \\cdot u = 0)$ when the variable $x$ is changed in the direction of $u$.\n",
    "\n",
    "Note also that because the gradient of an affine function is constant, the directional derivative in any direction is constant. (This will be relevant for step 2C of the graphical method.)"
   ]
  },
  {
   "attachments": {},
   "cell_type": "markdown",
   "metadata": {},
   "source": [
    "1.13 Def - LEVEL SET ?????\n",
    "\n",
    "If $f : \\mathbb{R}^n \\rightarrow \\mathbb{R}$ a level set of $f$ is a subset of $\\mathbb{R}^n$ on which $f$ has constant value $f(x) = b$ for some constant $b \\in \\mathbb{R}$, then $f(x) = b$ will sometimes be used as an abbreviation to refer to the level set $\\{ x \\in \\mathbb{R}^n \\,\\,\\, | \\,\\,\\, f(x) = b \\}$. (Whether the reference is to the equation itself or to the solution of the equation should be clear from the context.)"
   ]
  },
  {
   "attachments": {},
   "cell_type": "markdown",
   "metadata": {},
   "source": [
    "1.14 - ?????\n",
    "\n",
    "If $f(x) = b$ on a set $S \\in \\mathbb{R}^n$ and $x, y \\in S$ where $u = x - y$, then $\\nabla{f} \\cdot u = 0$.\n",
    "\n",
    "That is, a function has zero directional derivative on any level set."
   ]
  },
  {
   "attachments": {},
   "cell_type": "markdown",
   "metadata": {},
   "source": [
    "1.14.5 - using gradients to graph lines\n",
    "\n",
    "The boundary of a linear inequality constraint in $\\mathbb{R}^n$ is a hyperplane of dimension $n - 1$.\n",
    "* In $\\mathbb{R}^2$, a hyperplane of dimension $2 - 1 = 1$ is a line.\n",
    "* In $\\mathbb{R}^3$, a hyperplane of dimension $3 - 1 = 2$ is a plane.\n",
    "\n",
    "The full solution of a linear equality constraint in $\\mathbb{R}^n$ is a hyperplane of dimension $n - 1$.\n",
    "\n",
    "A quick way to graph lines and an easy way to visually check one's graphs of lines in $\\mathbb{R}^2$ is that the boundary of a linear constraint $f(x) \\le b$ will be the line $f(x) = b$, a line perpendicular to $\\nabla{f}$. Furthermore, $f(0) = 0$, so $\\nabla{f}$ can be traced from the origin out to the level set $f(x) = b$.\n",
    "\n",
    "For example,\n",
    "* the boundary of the constraint $2x_1 + 3x_2 \\le 6$ will be perpendicular to $\\nabla{f} = (2, 3)$ and pass through the first quadrant with negative slope\n",
    "* the boundary of the constraint $2x_1 - 3x_2 \\le 6$ will be perpendicular to $\\nabla{f} = (2, -3)$ and pass through the fourth quadrant with positive slope\n",
    "* the boundary of the constraint $-2x_1 - 3x_2 \\le 6$ will be perpendicular to $\\nabla{f} = (-2, -3)$ and pass through the third quadrant with negative slope\n",
    "* the boundary of the constraint $-2x_1 + 3x_2 \\le 6$ will be perpendicular to $\\nabla{f} = (-2, 3)$ and pass through the second quadrant with positive slope\n",
    "\n",
    "Gradients also make it easy to check which side of an inequality is the feasible side (i.e., the side that satisfies the constraint.)\n",
    "* the feasible side of the boundary of $f(x) \\ge b$ is the side that $\\nabla{f}$ points to\n",
    "* the feasible side of the boundary of $f(x) \\le b$ is the opposite side from what $\\nabla{f}$ points to (i.e., the side $-\\nabla{f}$ points to)\n",
    "* the feasible set of $f(x) = b$ is just the line itself"
   ]
  },
  {
   "attachments": {},
   "cell_type": "markdown",
   "metadata": {},
   "source": [
    "1.15 - graphing feasible sets\n",
    "\n"
   ]
  },
  {
   "attachments": {},
   "cell_type": "markdown",
   "metadata": {},
   "source": [
    "---"
   ]
  },
  {
   "attachments": {},
   "cell_type": "markdown",
   "metadata": {},
   "source": [
    "objective function: the affine function to optimize\n",
    "LP: to optimize the objective function subject to finitely many linear constraints\n",
    "\n",
    "$\\Gamma$ feasible set\n",
    "\n",
    "$\\arg\\min$"
   ]
  },
  {
   "attachments": {},
   "cell_type": "markdown",
   "metadata": {},
   "source": [
    "---"
   ]
  },
  {
   "attachments": {},
   "cell_type": "markdown",
   "metadata": {},
   "source": [
    "## Class Notes"
   ]
  },
  {
   "attachments": {},
   "cell_type": "markdown",
   "metadata": {},
   "source": [
    "### 01/27 Friday"
   ]
  },
  {
   "attachments": {},
   "cell_type": "markdown",
   "metadata": {},
   "source": [
    "a point that has a unique representation\n",
    "\n",
    "$c_1x_1+c_2x_2+...+c_kx_k$ is convex where $c_i\\gt 0$ and $\\sum c_i=1$\n",
    "\n",
    "$x_1,...,x_k\\in S$\n",
    "\n",
    "$y_1=\\frac{c_1}{c_1+c_2}x_1+\\frac{c_2}{c_1+c_2}x_2\\in S$\n",
    "\n",
    "$(c_1+c_2)y+c_3x_3+...+c_kx_k$\n",
    "\n",
    "convex hull\n",
    "\n",
    "$\\{\\sum_{i=1}^k c_ix_i \\,\\,\\, | \\,\\,\\, c \\ge 0 \\sum x_i = 1\\}$ the smallest convex set containing ${x_1,...,x_k}$"
   ]
  },
  {
   "attachments": {},
   "cell_type": "markdown",
   "metadata": {},
   "source": [
    "### 01/23 MONDAY"
   ]
  },
  {
   "attachments": {},
   "cell_type": "markdown",
   "metadata": {},
   "source": [
    "roadmap\n",
    "* convexity (today)\n",
    "* matrix forms: packaging the LP\n",
    "* tableau form (the simplex algorithm uses this)\n",
    "* final forms: infeasible, feasible but unbounded, feasible\n",
    "* mapping tableau in control variables\n",
    "* simplex algorithm"
   ]
  },
  {
   "attachments": {},
   "cell_type": "markdown",
   "metadata": {},
   "source": [
    "$S \\sub \\mathbb{R}^n$ is convex if $\\forall x,y \\in S$ and $\\alpha\\in[0,1], \\alpha x+(1-\\alpha)y\\in S$\n",
    "\n",
    "convex combination of x and y\n",
    "\n",
    "linear combination if coeffs are 0 and sum of coeffs are 1\n",
    "\n",
    "convex combination of $\\{x_1,...,x_k\\}$ (a set of vectors) is $\\sum c_ix_i$ s.t. $c_i \\ge 0,i=1,...k$ and $\\sum^k_{i=1} c_i=1$\n",
    "\n",
    "$x_1 \\in \\mathbb{R}^n,x_2\\in\\mathbb{R}^n,...,x_k\\in\\mathbb{R}^n$\n",
    "\n",
    "$\\alpha\\le 1\\rightarrow 1-\\alpha\\ge 0$\n",
    "\n",
    "geometrically a set $S$ is convex iff $\\forall x,y\\in S$ the line segment connecting x and y is entirely in S\n",
    "\n",
    "the empty set is convex\n",
    "\n",
    "$g(x)\\ge b$ where $g:\\mathbb{R}^n\\rightarrow\\mathbb{R}$ is linear\n",
    "\n",
    "x is generic\n",
    "\n",
    "suppose y and z are feasible i.e. $g(y)\\ge b$ and $g(z)\\ge b$\n",
    "\n",
    "y and z are two specific points that pass the constraint\n",
    "\n",
    "we need to show that $g(\\alpha y+(1-\\alpha)z)\\ge b \\forall\\alpha\\in [0,1]$\n",
    "\n",
    "g is linear therefore $\\alpha g(y)+(1-\\alpha)g(z) \\ge \\alpha b + (1-\\alpha)b = b$\n",
    "\n",
    "$\\alpha g(y) \\ge \\alpha b$\n",
    "\n",
    "$(1-\\alpha)g(z) \\ge (1-\\alpha)b$"
   ]
  },
  {
   "attachments": {},
   "cell_type": "markdown",
   "metadata": {},
   "source": [
    "---"
   ]
  },
  {
   "attachments": {},
   "cell_type": "markdown",
   "metadata": {},
   "source": [
    "## Linear Map/Transformation"
   ]
  },
  {
   "attachments": {},
   "cell_type": "markdown",
   "metadata": {},
   "source": [
    "A linear map is a map $V\\rightarrow W$ between two vector spaces that preserves the operations of vector addition and scalar multiplication.\n",
    "\n",
    "Let $V,W$ be vector spaces over the same field $K$. A function $f:V\\rightarrow W$ is said to be a linear map if for any two vectors $\\mathbf{u},\\mathbf{v}\\in V$ and any scalar $c\\in K$ the following two conditions are satisfied:\n",
    "1. Additivity $f(\\mathbf{u}+\\mathbf{v})=f(\\mathbf{u})+f(\\mathbf{v})$\n",
    "2. Homogeneity of degree 1 (scalar multiplication) $f(c\\mathbf{u})=cf(\\mathbf{u})$\n",
    "\n",
    "A linear map is said to be operation preserving becuase it does not matter whether the linear map is applied before or after the operations of addition and scalar multiplication.\n",
    "\n",
    "A linear map preserves linear combinations: $f(c_1\\mathbf{u}_1+...+c_n\\mathbf{u}_n)=c_1f(\\mathbf{u}_1)+...+c_nf(\\mathbf{u}_n)\\,\\,\\,\\forall \\mathbf{u}_1,...,\\mathbf{u}_n\\in V,\\forall c_1,...,c_n\\in K$ by the associativity of the addition operation\n",
    "\n",
    "$f(\\boldsymbol{0}_V)=f(0\\mathbf{v})=0f(\\mathbf{v})=\\boldsymbol{0}_W$\n",
    "\n",
    "If a linear map is a bijection, then it is called a linear isomorphism.\n",
    "\n",
    "In the case where $V=W$, then a linear map is called a linear endomorphism.\n",
    "\n",
    "A linear map $V\\rightarrow W$ always maps the origin of $V$ to the origin of $W$.\n",
    "\n",
    "A linear map $V\\rightarrow W$ maps linear subspaces in $V$ onto linear subspaces in $W$ (possibly of lower dimension).\n",
    "\n",
    "Linear maps can be represented as matrices.\n",
    "\n",
    "Rotation\n",
    "\n",
    "Reflection"
   ]
  },
  {
   "attachments": {},
   "cell_type": "markdown",
   "metadata": {},
   "source": [
    "---"
   ]
  },
  {
   "attachments": {},
   "cell_type": "markdown",
   "metadata": {},
   "source": [
    "## Affine Transformation"
   ]
  },
  {
   "attachments": {},
   "cell_type": "markdown",
   "metadata": {},
   "source": [
    "An affine transformation is a geometric transformation that preserves lines and parallelism but not necessarily Euclidean distances and angles.\n",
    "\n",
    "Affine Transformations\n",
    "* Scaling\n",
    "* Reflection\n",
    "* Rotation"
   ]
  },
  {
   "attachments": {},
   "cell_type": "markdown",
   "metadata": {},
   "source": [
    "---"
   ]
  },
  {
   "attachments": {},
   "cell_type": "markdown",
   "metadata": {},
   "source": [
    "## Terms"
   ]
  },
  {
   "attachments": {},
   "cell_type": "markdown",
   "metadata": {},
   "source": [
    "* Affine Function\n",
    "* [Affine Space](https://en.wikipedia.org/wiki/Affine_space)\n",
    "* [Affine Transformation](https://en.wikipedia.org/wiki/Affine_transformation)\n",
    "* [Antiderivative](https://en.wikipedia.org/wiki/Antiderivative)\n",
    "* [Calculus](https://en.wikipedia.org/wiki/Calculus)\n",
    "* Constraint\n",
    "* [Curl](https://en.wikipedia.org/wiki/Curl_(mathematics))\n",
    "* [Curve](https://en.wikipedia.org/wiki/Curve)\n",
    "* [Derivative](https://en.wikipedia.org/wiki/Derivative)\n",
    "* [Differentiable Curve](https://en.wikipedia.org/wiki/Differentiable_curve)\n",
    "* [Differentiable Function](https://en.wikipedia.org/wiki/Differentiable_function)\n",
    "* [Differential Calculus](https://en.wikipedia.org/wiki/Differential_calculus)\n",
    "* [Divergence](https://en.wikipedia.org/wiki/Divergence)\n",
    "* [Euclidean Plane](https://en.wikipedia.org/wiki/Euclidean_plane)\n",
    "* [Euclidean Plane Isometry](https://en.wikipedia.org/wiki/Euclidean_plane_isometry)\n",
    "* [Euclidean Space](https://en.wikipedia.org/wiki/Euclidean_space)\n",
    "* [Function](https://en.wikipedia.org/wiki/Function_(mathematics))\n",
    "* [Fundamental Theorem of Calculus](https://en.wikipedia.org/wiki/Fundamental_theorem_of_calculus)\n",
    "* [Geometric Transformation](https://en.wikipedia.org/wiki/Geometric_transformation)\n",
    "* [Glide Reflection](https://en.wikipedia.org/wiki/Glide_reflection)\n",
    "* [Gradient](https://en.wikipedia.org/wiki/Gradient)\n",
    "* [Homothety](https://en.wikipedia.org/wiki/Homothety)\n",
    "* [Infinitesimal](https://en.wikipedia.org/wiki/Infinitesimal)\n",
    "* [Integral](https://en.wikipedia.org/wiki/Integral)\n",
    "* [Isometry](https://en.wikipedia.org/wiki/Isometry)\n",
    "* [Line Integral](https://en.wikipedia.org/wiki/Line_integral)\n",
    "* [Linear Map/Transformation](https://en.wikipedia.org/wiki/Linear_map)\n",
    "* Linear Constraint\n",
    "* Linear Program (LP)\n",
    "* [Map](https://en.wikipedia.org/wiki/Map_(mathematics))\n",
    "* Mathematical Model\n",
    "* [Multiple Integral](https://en.wikipedia.org/wiki/Multiple_integral)\n",
    "* [Multivariable Calculus](https://en.wikipedia.org/wiki/Multivariable_calculus)\n",
    "* [Multivariate Function (Function of Several Variables)](https://en.wikipedia.org/wiki/Function_(mathematics)#Multivariate_function)\n",
    "* Objective Function\n",
    "* [Plane](https://en.wikipedia.org/wiki/Plane_(geometry))\n",
    "* [Reflection](https://en.wikipedia.org/wiki/Reflection_(mathematics))\n",
    "* [Rotation](https://en.wikipedia.org/wiki/Rotation_(mathematics))\n",
    "* [Rotations and reflections in two dimensions](https://en.wikipedia.org/wiki/Rotations_and_reflections_in_two_dimensions)\n",
    "* [Scalar Field](https://en.wikipedia.org/wiki/Scalar_field)\n",
    "* [Scaling](https://en.wikipedia.org/wiki/Scaling_(geometry))\n",
    "* [Shearing](https://en.wikipedia.org/wiki/Shear_mapping)\n",
    "* [Similarity](https://en.wikipedia.org/wiki/Similarity_(geometry))\n",
    "* [Smoothness](https://en.wikipedia.org/wiki/Smoothness)\n",
    "* [Surface](https://en.wikipedia.org/wiki/Surface_(mathematics))\n",
    "* [Surface Integral](https://en.wikipedia.org/wiki/Surface_integral)\n",
    "* [Symmetry Operation](https://en.wikipedia.org/wiki/Symmetry_operation)\n",
    "* [Translation](https://en.wikipedia.org/wiki/Translation_(geometry))\n",
    "* [Vector](https://en.wikipedia.org/wiki/Euclidean_vector)\n",
    "* [Vector Calculus](https://en.wikipedia.org/wiki/Vector_calculus)\n",
    "* [Vector Field](https://en.wikipedia.org/wiki/Vector_field)\n",
    "* [Vector-Valued Function](https://en.wikipedia.org/wiki/Vector-valued_function)"
   ]
  },
  {
   "attachments": {},
   "cell_type": "markdown",
   "metadata": {},
   "source": [
    "---"
   ]
  }
 ],
 "metadata": {
  "kernelspec": {
   "display_name": "temp",
   "language": "python",
   "name": "python3"
  },
  "language_info": {
   "codemirror_mode": {
    "name": "ipython",
    "version": 3
   },
   "file_extension": ".py",
   "mimetype": "text/x-python",
   "name": "python",
   "nbconvert_exporter": "python",
   "pygments_lexer": "ipython3",
   "version": "3.10.8 | packaged by conda-forge | (main, Nov 22 2022, 08:25:13) [Clang 14.0.6 ]"
  },
  "orig_nbformat": 4,
  "vscode": {
   "interpreter": {
    "hash": "8f0d4d45b15790c9a43c559f124c7ba0862b8436c903997b2987a8faf626308c"
   }
  }
 },
 "nbformat": 4,
 "nbformat_minor": 2
}
