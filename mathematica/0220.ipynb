{
 "cells": [
  {
   "cell_type": "code",
   "execution_count": 1,
   "metadata": {
    "vscode": {
     "languageId": "python"
    }
   },
   "outputs": [],
   "source": [
    "pivot[iStar_,jStar_,tab_]:=(\n",
    "  nRows=Dimensions[tab][[1]];\n",
    "  nCols=Dimensions[tab][[2]];\n",
    "  newTab=tab;\n",
    "  newTab[[1,jStar]]=tab[[iStar,nCols]];\n",
    "  newtab[[iStar,nCols]]=tab[[1,jStar]];\n",
    "  For[ii=2,ii<=nRows,ii++,\n",
    "   For[jj=1,jj<nCols,jj++,\n",
    "    If[ii==iStar&&jj==jStar,newTab[[ii,jj]]=1/tab[[iStar,jStar]]];\n",
    "    If[ii==iStar&&jj!=jStar,newTab[[ii,jj]]=-tab[[ii,jj]]/tab[[iStar,jStar]]];\n",
    "    If[ii!=iStar&&jj==jStar,newTab[[ii,jj]]=tab[[ii,jj]]/tab[[iStar,jStar]]];\n",
    "    If[ii!=iStar&&jj!=jStar,newTab[[ii,jj]]=tab[[ii,jj]]-tab[[iStar,jj]]*tab[[ii,jStar]]/tab[[iStar,jStar]]];\n",
    "   ]\n",
    "  ];\n",
    "  Return[newTab]\n",
    ")"
   ]
  },
  {
   "cell_type": "code",
   "execution_count": 30,
   "metadata": {
    "vscode": {
     "languageId": "python"
    }
   },
   "outputs": [
    {
     "name": "stdout",
     "output_type": "stream",
     "text": [
      "a = u1   u2   u3   u4   1\n",
      "\n",
      "    -1   1    -4   4    40   s1\n",
      "\n",
      "    3    -3   1    -1   15   s3\n",
      "\n",
      "    2    -2   -2   2    10   s4\n",
      "\n",
      "    -4   4    3    -3   -5   -z\n"
     ]
    }
   ],
   "source": [
    "a0={\"u1\",\"u2\",\"u3\",\"u4\",1,\"\"};\n",
    "a1={-1,1,-4,4,40,\"s1\"};\n",
    "a2={-2,2,2,-2,-12,\"s2\"};\n",
    "a3={3,-3,1,-1,15,\"s3\"};\n",
    "a4={2,-2,-2,2,10,\"s4\"};\n",
    "aobj=-{4,-4,-3,3,5,\"z\"};\n",
    "a={a0,a1,a3,a4,aobj};\n",
    "Print[\"a = \",MatrixForm[a]]"
   ]
  },
  {
   "attachments": {},
   "cell_type": "markdown",
   "metadata": {},
   "source": [
    "---"
   ]
  },
  {
   "attachments": {},
   "cell_type": "markdown",
   "metadata": {},
   "source": [
    "[FINAL FORMS]\n",
    "\n",
    "1\n",
    "\n",
    "$b\\ge0\\land c\\ge0\\implies$ optimal (if $c\\gt0$ then single point argmin)\n",
    "\n",
    "2\n",
    "\n",
    "bad row infeasible\n",
    "\n",
    "$\\exists i\\ni b_i\\lt0\\land a_{ij}\\le0\\forall j$\n",
    "\n",
    "3\n",
    "\n",
    "$b\\ge0$ and bad col $\\implies$ unbounded\n",
    "\n",
    "$\\exists j\\ni c_j\\lt0\\land a_{ij}\\ge0\\forall i$"
   ]
  },
  {
   "attachments": {},
   "cell_type": "markdown",
   "metadata": {},
   "source": [
    "[PHASE I]\n",
    "* pivot until $b\\ge0$ or bad row\n",
    "\n",
    "[PHASE II]\n",
    "* start with $b\\ge0$\n",
    "* pivot until $c\\ge0$ or bad col"
   ]
  }
 ],
 "metadata": {
  "kernelspec": {
   "display_name": "Wolfram Language 13",
   "language": "Wolfram Language",
   "name": "wolframlanguage13"
  },
  "language_info": {
   "codemirror_mode": "mathematica",
   "file_extension": ".m",
   "mimetype": "application/vnd.wolfram.m",
   "name": "Wolfram Language",
   "pygments_lexer": "mathematica",
   "version": "12.0"
  },
  "orig_nbformat": 4,
  "vscode": {
   "interpreter": {
    "hash": "7934a2e895ecf0f9e222ea9c67d2028800f311cc59efafcc0f7e737f99c61e05"
   }
  }
 },
 "nbformat": 4,
 "nbformat_minor": 2
}
