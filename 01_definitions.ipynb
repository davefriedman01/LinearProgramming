{
 "cells": [
  {
   "attachments": {},
   "cell_type": "markdown",
   "metadata": {},
   "source": [
    "# Definitions"
   ]
  },
  {
   "attachments": {},
   "cell_type": "markdown",
   "metadata": {},
   "source": [
    "---"
   ]
  },
  {
   "cell_type": "markdown",
   "metadata": {},
   "source": [
    "The goal of an LP is to find the decision that optimizes some objective subject to certain constraints."
   ]
  },
  {
   "attachments": {},
   "cell_type": "markdown",
   "metadata": {},
   "source": [
    "---"
   ]
  },
  {
   "attachments": {},
   "cell_type": "markdown",
   "metadata": {},
   "source": [
    "[LINEAR MAP]\n",
    "\n",
    "A function $f:\\mathbb{R}^n\\rightarrow\\mathbb{R}$ is linear if $f(a\\mathbf{x}+\\mathbf{y})=af(\\mathbf{x})+f(\\mathbf{y})\\,\\,\\,\\forall{\\mathbf{x},\\mathbf{y}}\\in\\mathbb{R}^n,\\forall{a}\\in\\mathbb{R}$.\n",
    "\n",
    "Note that if $f:\\mathbb{R}^n\\rightarrow\\mathbb{R}$ is linear, then $f(\\mathbf{0})=0$.\n",
    "\n",
    "[[W](https://en.wikipedia.org/wiki/Linear_map)] Linear Function/Map/Transformation"
   ]
  },
  {
   "attachments": {},
   "cell_type": "markdown",
   "metadata": {},
   "source": [
    "---"
   ]
  },
  {
   "attachments": {},
   "cell_type": "markdown",
   "metadata": {},
   "source": [
    "[AFFINE MAP]\n",
    "\n",
    "A function $f:\\mathbb{R}^n\\rightarrow\\mathbb{R}$ is affine if $f(\\mathbf{x})=g(\\mathbf{x})+c\\,\\,\\,\\forall{\\mathbf{x}}\\in\\mathbb{R}^n$ where $g$ is linear and $c\\in\\mathbb{R}$.\n",
    "\n",
    "In other words, an affine function is just a linear function plus a constant.\n",
    "\n",
    "[[W](https://en.wikipedia.org/wiki/Affine_transformation)] Affine Function/Map/Transformation"
   ]
  },
  {
   "attachments": {},
   "cell_type": "markdown",
   "metadata": {},
   "source": [
    "---"
   ]
  },
  {
   "attachments": {},
   "cell_type": "markdown",
   "metadata": {},
   "source": [
    "[LINEAR CONSTRAINT]\n",
    "\n",
    "A linear constraint uses a linear function $f:\\mathbb{R}^n\\rightarrow\\mathbb{R}$ and a constant $b\\in\\mathbb{R}$ to limit the values of a variable $\\mathbf{x}\\in\\mathbb{R}^n$ by requiring either $f(\\mathbf{x})\\le b$, $f(\\mathbf{x})\\ge b$, or $f(\\mathbf{x})=b$.\n",
    "\n",
    "Only weak inequalities $\\le,\\ge$ are allowed which means that the solution set is closed.\n",
    "\n",
    "Note that any affine constraint can be rewritten as a linear constraint.\n",
    "\n",
    "* [[W](https://en.wikipedia.org/wiki/Constraint_(mathematics))] Constraint\n",
    "* [[W](https://en.wikipedia.org/wiki/Linear_equation)] Linear Equality/Equation\n",
    "* [[W](https://en.wikipedia.org/wiki/Linear_inequality)] Linear Inequality"
   ]
  },
  {
   "attachments": {},
   "cell_type": "markdown",
   "metadata": {},
   "source": [
    "---"
   ]
  },
  {
   "attachments": {},
   "cell_type": "markdown",
   "metadata": {},
   "source": [
    "[LINEAR PROGRAM (LP) & OBJECTIVE FUNCTION]\n",
    "\n",
    "An LP is a problem of optimizing an affine function called the objective function subject to finitely many linear constraints.\n",
    "\n",
    "Note that any affine objective function $f(\\mathbf{x})+c$ attains its optimum where $f(\\mathbf{x})$ attains its optimum. The constant $c$ only changes the optimal value of $f$, not the values of $\\mathbf{x}$ at which $f$ attains its optimum.\n",
    "\n",
    "* [[W](https://en.wikipedia.org/wiki/Linear_programming)] Linear Program\n",
    "* [[W](https://en.wikipedia.org/wiki/Loss_function)] Objective Function"
   ]
  },
  {
   "attachments": {},
   "cell_type": "markdown",
   "metadata": {},
   "source": [
    "---"
   ]
  },
  {
   "attachments": {},
   "cell_type": "markdown",
   "metadata": {},
   "source": [
    "[FEASIBLE SET]\n",
    "\n",
    "The feasible set $\\Gamma$ of an LP is the set of all $\\mathbf{x}\\in\\mathbb{R}^n$ that satisfy all the constraints of the LP.\n",
    "\n",
    "[[W](https://en.wikipedia.org/wiki/Feasible_region)] Feasible Region/Set"
   ]
  },
  {
   "attachments": {},
   "cell_type": "markdown",
   "metadata": {},
   "source": [
    "---"
   ]
  },
  {
   "attachments": {},
   "cell_type": "markdown",
   "metadata": {},
   "source": [
    "[OPTIMAL/SOLUTION SET]\n",
    "\n",
    "Let $\\Gamma$ be the feasible set of an LP.\n",
    "\n",
    "If the LP is to maximize $f$, then the optimal set of the LP is\n",
    "\n",
    "$\\argmax_{\\Gamma}(f)=\\{\\mathbf{x}\\in\\Gamma\\mid f(\\mathbf{x})\\ge f(\\mathbf{y})\\,\\,\\,\\forall{\\mathbf{y}}\\in\\Gamma\\}$\n",
    "\n",
    "the set of points at which $f$ attains its maximum over the set $\\Gamma$.\n",
    "\n",
    "If the LP is to minimize $f$, then the optimal set of the LP is\n",
    "\n",
    "$\\argmin_{\\Gamma}(f)=\\{\\mathbf{x}\\in\\Gamma\\mid f(\\mathbf{x})\\le f(\\mathbf{y})\\,\\,\\,\\forall{\\mathbf{y}}\\in\\Gamma\\}$\n",
    "\n",
    "the set of points at which $f$ attains its minimum over the set $\\Gamma$."
   ]
  },
  {
   "attachments": {},
   "cell_type": "markdown",
   "metadata": {},
   "source": [
    "---"
   ]
  },
  {
   "attachments": {},
   "cell_type": "markdown",
   "metadata": {},
   "source": [
    "[OPTIMAL VALUE]\n",
    "\n",
    "Let $\\Gamma$ be the feasible set of an LP.\n",
    "\n",
    "If the LP is the maximize $f$, then the optimal value is\n",
    "\n",
    "$\\max_{\\Gamma}(f)$\n",
    "\n",
    "If the LP is the minimize $f$, then the optimal value is\n",
    "\n",
    "$\\min_{\\Gamma}(f)$"
   ]
  },
  {
   "attachments": {},
   "cell_type": "markdown",
   "metadata": {},
   "source": [
    "---"
   ]
  },
  {
   "attachments": {},
   "cell_type": "markdown",
   "metadata": {},
   "source": [
    "[LP SOLUTION]\n",
    "\n",
    "The solution to an LP consists of both the optimal set and the optimal value.\n",
    "\n",
    "either\n",
    "\n",
    "$\\argmax_{\\Gamma}(f)$ and $\\max_{\\Gamma}(f)$\n",
    "\n",
    "or\n",
    "\n",
    "$\\argmin_{\\Gamma}(f)$ and $\\min_{\\Gamma}(f)$\n",
    "\n",
    "In other words, solving an LP means finding both the optimal set and the optimal value."
   ]
  },
  {
   "attachments": {},
   "cell_type": "markdown",
   "metadata": {},
   "source": [
    "---"
   ]
  },
  {
   "attachments": {},
   "cell_type": "markdown",
   "metadata": {},
   "source": [
    "[GRADIENT]\n",
    "\n",
    "Let $f:\\mathbb{R}^n\\rightarrow\\mathbb{R}$ be a function.\n",
    "\n",
    "The gradient of $f$ is $\\nabla{f}=\\left\\lang\\frac{\\partial f}{\\partial x_1},...,\\frac{\\partial f}{\\partial x_n}\\right\\rang$.\n",
    "\n",
    "Note that if $f$ is affine (or linear), then $\\nabla{f}$ is constant.\n",
    "\n",
    "The significance of the vector $\\nabla{f}$ is that it points in the direction of the maximum rate of increase of $f$ per unit Euclidean distance change in the variable $\\mathbf{x}$ as it varies through $\\mathbb{R}^n$.\n",
    "\n",
    "[[W](https://en.wikipedia.org/wiki/Gradient)] Gradient"
   ]
  },
  {
   "attachments": {},
   "cell_type": "markdown",
   "metadata": {},
   "source": [
    "---"
   ]
  },
  {
   "attachments": {},
   "cell_type": "markdown",
   "metadata": {},
   "source": [
    "[DIRECTIONAL DERIVATIVE]\n",
    "\n",
    "Let $\\mathbf{u}\\in\\mathbb{R}^n$ be a nonzero vector and $f:\\mathbb{R}^n\\rightarrow\\mathbb{R}$ be a function.\n",
    "\n",
    "The directional derivative of $f$ in the direction of $\\mathbf{u}$ is\n",
    "\n",
    "$\n",
    "\\begin{aligned}\n",
    "\\frac{\\nabla f\\cdot\\mathbf{u}}{\\|\\mathbf{u}\\|}\n",
    "\\end{aligned}\n",
    "$\n",
    "\n",
    "Note that the sign of the directional derivative does not depend on the magnitude of $\\mathbf{u}$, so $\\nabla f\\cdot\\mathbf{u}$ can be used in place of the true directional derivative when only the sign is needed.\n",
    "\n",
    "The sign (of the directional derivative of $f$ in the direction of $\\mathbf{u}$) is enough to tell whether $f$ increases, decreases, or remains constant when the variable $\\mathbf{x}$ is changed in the direction of $\\mathbf{u}$.\n",
    "1. $\\nabla f\\cdot\\mathbf{u}\\ge0\\implies f$ increases\n",
    "2. $\\nabla f\\cdot\\mathbf{u}\\le0\\implies f$ decreases\n",
    "3. $\\nabla f\\cdot\\mathbf{u}=0\\implies f$ remains constant\n",
    "\n",
    "Note also that because the gradient of an affine (or linear) function is constant, the directional derivative in any direction is constant.\n",
    "\n",
    "[[W](https://en.wikipedia.org/wiki/Directional_derivative)] Directional Derivative"
   ]
  },
  {
   "attachments": {},
   "cell_type": "markdown",
   "metadata": {},
   "source": [
    "---"
   ]
  },
  {
   "attachments": {},
   "cell_type": "markdown",
   "metadata": {},
   "source": [
    "[LEVEL SET]\n",
    "\n",
    "Let $f:\\mathbb{R}^n\\rightarrow\\mathbb{R}$ be a function.\n",
    "\n",
    "A level set of $f$ is a subset of $\\mathbb{R}^n$ on which $f$ has constant value $f(\\mathbf{x})=k$ for some constant $k\\in\\mathbb{R}$.\n",
    "\n",
    "$f(\\mathbf{x})=k$ may be used as an abbreviation to refer to the level set\n",
    "\n",
    "$\\{\\mathbf{x}\\in\\mathbb{R}^n\\mid f(\\mathbf{x})=k\\}$\n",
    "\n",
    "[[W](https://en.wikipedia.org/wiki/Level_set)] Level Set"
   ]
  },
  {
   "attachments": {},
   "cell_type": "markdown",
   "metadata": {},
   "source": [
    "---"
   ]
  },
  {
   "attachments": {},
   "cell_type": "markdown",
   "metadata": {},
   "source": [
    "1.14\n",
    "\n",
    "If $f(x) = b$ on a set $S \\in \\mathbb{R}^n$ and $x, y \\in S$ where $u = x - y$, then $\\nabla{f} \\cdot u = 0$.\n",
    "\n",
    "That is, a function has zero directional derivative on any level set."
   ]
  },
  {
   "cell_type": "markdown",
   "metadata": {},
   "source": [
    "1.14.5 - using gradients to graph lines\n",
    "\n",
    "The boundary of a linear inequality constraint in $\\mathbb{R}^n$ is a hyperplane of dimension $n - 1$.\n",
    "* In $\\mathbb{R}^2$, a hyperplane of dimension $2 - 1 = 1$ is a line.\n",
    "* In $\\mathbb{R}^3$, a hyperplane of dimension $3 - 1 = 2$ is a plane.\n",
    "\n",
    "The full solution of a linear equality constraint in $\\mathbb{R}^n$ is a hyperplane of dimension $n - 1$.\n",
    "\n",
    "A quick way to graph lines and an easy way to visually check one's graphs of lines in $\\mathbb{R}^2$ is that the boundary of a linear constraint $f(x) \\le b$ will be the line $f(x) = b$, a line perpendicular to $\\nabla{f}$. Furthermore, $f(0) = 0$, so $\\nabla{f}$ can be traced from the origin out to the level set $f(x) = b$.\n",
    "\n",
    "For example,\n",
    "* the boundary of the constraint $2x_1 + 3x_2 \\le 6$ will be perpendicular to $\\nabla{f} = (2, 3)$ and pass through the first quadrant with negative slope\n",
    "* the boundary of the constraint $2x_1 - 3x_2 \\le 6$ will be perpendicular to $\\nabla{f} = (2, -3)$ and pass through the fourth quadrant with positive slope\n",
    "* the boundary of the constraint $-2x_1 - 3x_2 \\le 6$ will be perpendicular to $\\nabla{f} = (-2, -3)$ and pass through the third quadrant with negative slope\n",
    "* the boundary of the constraint $-2x_1 + 3x_2 \\le 6$ will be perpendicular to $\\nabla{f} = (-2, 3)$ and pass through the second quadrant with positive slope\n",
    "\n",
    "Gradients also make it easy to check which side of an inequality is the feasible side (i.e., the side that satisfies the constraint.)\n",
    "* the feasible side of the boundary of $f(x) \\ge b$ is the side that $\\nabla{f}$ points to\n",
    "* the feasible side of the boundary of $f(x) \\le b$ is the opposite side from what $\\nabla{f}$ points to (i.e., the side $-\\nabla{f}$ points to)\n",
    "* the feasible set of $f(x) = b$ is just the line itself"
   ]
  },
  {
   "cell_type": "markdown",
   "metadata": {},
   "source": [
    "1.15 - graphing feasible sets\n",
    "\n"
   ]
  },
  {
   "cell_type": "markdown",
   "metadata": {},
   "source": [
    "---"
   ]
  }
 ],
 "metadata": {
  "kernelspec": {
   "display_name": "main",
   "language": "python",
   "name": "python3"
  },
  "language_info": {
   "name": "python",
   "version": "3.10.8"
  },
  "orig_nbformat": 4,
  "vscode": {
   "interpreter": {
    "hash": "7934a2e895ecf0f9e222ea9c67d2028800f311cc59efafcc0f7e737f99c61e05"
   }
  }
 },
 "nbformat": 4,
 "nbformat_minor": 2
}
