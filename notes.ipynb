{
 "cells": [
  {
   "cell_type": "markdown",
   "metadata": {},
   "source": [
    "# MATH 484 Linear Programs and Related Problems"
   ]
  },
  {
   "attachments": {},
   "cell_type": "markdown",
   "metadata": {},
   "source": [
    "---"
   ]
  },
  {
   "attachments": {},
   "cell_type": "markdown",
   "metadata": {},
   "source": [
    "## Tableaux"
   ]
  },
  {
   "attachments": {},
   "cell_type": "markdown",
   "metadata": {},
   "source": [
    "### Extended Row Tableaux"
   ]
  },
  {
   "attachments": {},
   "cell_type": "markdown",
   "metadata": {},
   "source": [
    "Let $\\mathbf{Ax+s=b}$ be a system of linear equality constraints with vector of control variables $\\mathbf{x}$ and vector of slack variables $\\mathbf{s}$.\n",
    "\n",
    "$\\mathbf{A}_{[\\text{m}\\times\\text{n}]}\\mathbf{x}_{[\\text{n}\\times1]}+\\mathbf{I}_{[\\text{m}\\times\\text{m}]}\\mathbf{s}_{[\\text{m}\\times1]}=\\mathbf{b}_{[\\text{m}\\times1]}$\n",
    "\n",
    "The extended row tableau representation of this system is\n",
    "\n",
    "$\n",
    "\\begin{aligned}\n",
    "\\begin{matrix}\n",
    "\\kern+1ex 1\\left\\{\\right.\\\\\n",
    "m\\left\\{\\begin{matrix}\\\\\\\\\\\\\\end{matrix}\\right.\\\\\n",
    "\\end{matrix}\n",
    "\\begin{bmatrix}\n",
    "\\begin{matrix}\n",
    "\\begin{array}{ccc}\n",
    "& \\mathbf{x} & \\\\\n",
    "\\end{array}\n",
    "\\begin{array}{ccc}\n",
    "& \\mathbf{s} & \\\\\n",
    "\\end{array}\\\\\n",
    "\\hline\n",
    "\\smash{\\underbrace{\n",
    "\\begin{array}{ccc}\n",
    "& & \\\\\n",
    "& \\mathbf{A} & \\\\\n",
    "& & \\\\\n",
    "\\end{array}}_{n}}\n",
    "\\vphantom{\\begin{matrix}\\\\\\\\\\\\\\end{matrix}}\n",
    "\\smash{\\underbrace{\n",
    "\\begin{array}{ccc|}\n",
    "& & \\\\\n",
    "& \\mathbf{I} & \\\\\n",
    "& & \\\\\n",
    "\\end{array}}_{m}}\n",
    "\\vphantom{\\begin{matrix}\\\\\\\\\\\\\\end{matrix}}\n",
    "\\begin{array}{c}\\end{array}\n",
    "\\end{matrix}\n",
    "\\smash{\\underbrace{\n",
    "\\begin{array}{c}\n",
    "\\\\\\\\\\mathbf{b}\\\\\\\\\n",
    "\\end{array}}_{1}}\n",
    "\\vphantom{\\begin{matrix}\\\\\\\\\\\\\\end{matrix}}\n",
    "\\end{bmatrix}\n",
    "\\end{aligned}\n",
    "\\implies\n",
    "\\left\\lbrack\n",
    "\\begin{array}{cccccc|ccccccc|c}\n",
    "x_1 & x_2 & \\dots & x_i & \\dots & x_n & s_1 & s_2 & s_3 & \\dots & s_i & \\dots & s_m & \\\\\n",
    "\\hline\n",
    "A_{11} & A_{12} & \\dots & A_{1i} & \\dots & A_{1n} & 1 & 0 & 0 & \\dots & s_i & \\dots & 0 & b_1 \\\\\n",
    "A_{21} & A_{22} & \\dots & A_{2i} & \\dots & A_{2n} & 0 & 1 & 0 & \\dots & 0 & \\dots & 0 & b_2 \\\\\n",
    "A_{31} & A_{32} & \\dots & A_{3i} & \\dots & A_{3n} & 0 & 0 & 1 & \\dots & 0 & \\dots & 0 & b_3 \\\\\n",
    "\\vdots & \\vdots & \\ddots & \\vdots & \\ddots & \\vdots & \\vdots & \\vdots & \\vdots & \\ddots & \\vdots & \\ddots & \\vdots & \\vdots \\\\\n",
    "A_{j1} & A_{j2} & \\dots & A_{ji} & \\dots & A_{jn} & 0 & 0 & 0 & \\dots & 1 & \\dots & 0 & b_j \\\\\n",
    "\\vdots & \\vdots & \\ddots & \\vdots & \\ddots & \\vdots & \\vdots & \\vdots & \\vdots & \\ddots & \\vdots & \\ddots & \\vdots & \\vdots \\\\\n",
    "A_{m1} & A_{m2} & \\dots & A_{mi} & \\dots & A_{mn} & 0 & 0 & 0 & \\dots & 0 & \\dots & 1 & b_m \\\\\n",
    "\\end{array}\n",
    "\\right\\rbrack$"
   ]
  },
  {
   "attachments": {},
   "cell_type": "markdown",
   "metadata": {},
   "source": [
    "The number of linear equality constraints $m$ is the rank of the matrix $\\mathbf{A}$.\n",
    "* The number of linear equality constraints $m$ is just the number $m$ of rows in the matrix $\\mathbf{A}$, which is an upper bound on the rank of the matrix $\\mathbf{A}$.\n",
    "* The number of linear equality constraints $m$ is just the number $m$ of independent basis vectors under the slack variables, which is a lower bound on the rank of the matrix $\\mathbf{A}$."
   ]
  },
  {
   "attachments": {},
   "cell_type": "markdown",
   "metadata": {},
   "source": [
    "### Concise Row Tableaux"
   ]
  }
 ],
 "metadata": {
  "kernelspec": {
   "display_name": "main",
   "language": "python",
   "name": "python3"
  },
  "language_info": {
   "codemirror_mode": {
    "name": "ipython",
    "version": 3
   },
   "file_extension": ".py",
   "mimetype": "text/x-python",
   "name": "python",
   "nbconvert_exporter": "python",
   "pygments_lexer": "ipython3",
   "version": "3.10.8"
  },
  "orig_nbformat": 4,
  "vscode": {
   "interpreter": {
    "hash": "7934a2e895ecf0f9e222ea9c67d2028800f311cc59efafcc0f7e737f99c61e05"
   }
  }
 },
 "nbformat": 4,
 "nbformat_minor": 2
}
